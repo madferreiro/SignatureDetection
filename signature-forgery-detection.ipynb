{
 "cells": [
  {
   "cell_type": "code",
   "execution_count": 1,
   "id": "6b262829",
   "metadata": {
    "_cell_guid": "ecb4c37c-b09c-4460-8b55-2cce0537686e",
    "_uuid": "8a0ecf7f-b780-459b-87df-8f05a0602caa",
    "collapsed": false,
    "execution": {
     "iopub.execute_input": "2024-12-05T14:14:57.782854Z",
     "iopub.status.busy": "2024-12-05T14:14:57.782463Z",
     "iopub.status.idle": "2024-12-05T14:15:07.924454Z",
     "shell.execute_reply": "2024-12-05T14:15:07.923245Z"
    },
    "jupyter": {
     "outputs_hidden": false
    },
    "papermill": {
     "duration": 10.149298,
     "end_time": "2024-12-05T14:15:07.927128",
     "exception": false,
     "start_time": "2024-12-05T14:14:57.777830",
     "status": "completed"
    },
    "tags": []
   },
   "outputs": [],
   "source": [
    "# Signature Detection using FastAI by @madferreiro\n",
    "# ==================================================\n",
    "\n",
    "# Libraries\n",
    "from fastai.vision.all import *\n",
    "from pathlib import Path"
   ]
  },
  {
   "cell_type": "code",
   "execution_count": 2,
   "id": "5db190df",
   "metadata": {
    "_cell_guid": "b798e036-bb86-411e-b6b5-d823e78f10ad",
    "_uuid": "c59beb0e-7d85-4bf3-9402-3d903944bd46",
    "collapsed": false,
    "execution": {
     "iopub.execute_input": "2024-12-05T14:15:07.935684Z",
     "iopub.status.busy": "2024-12-05T14:15:07.935244Z",
     "iopub.status.idle": "2024-12-05T14:15:07.955012Z",
     "shell.execute_reply": "2024-12-05T14:15:07.953740Z"
    },
    "jupyter": {
     "outputs_hidden": false
    },
    "papermill": {
     "duration": 0.027263,
     "end_time": "2024-12-05T14:15:07.957655",
     "exception": false,
     "start_time": "2024-12-05T14:15:07.930392",
     "status": "completed"
    },
    "tags": []
   },
   "outputs": [
    {
     "name": "stdout",
     "output_type": "stream",
     "text": [
      "[Path('/kaggle/input/testdataset2/data/person2/signature1.png'), Path('/kaggle/input/testdataset2/data/person2/signature2.png'), Path('/kaggle/input/testdataset2/data/person2/signature3.png'), Path('/kaggle/input/testdataset2/data/person2/signature4.png'), Path('/kaggle/input/testdataset2/data/person1/signature1.png'), Path('/kaggle/input/testdataset2/data/person1/signature2.png'), Path('/kaggle/input/testdataset2/data/person1/signature3.png'), Path('/kaggle/input/testdataset2/data/person1/signature4.png')]\n"
     ]
    }
   ],
   "source": [
    "# Config variables\n",
    "data_path = Path('/kaggle/input/testdataset2/data')\n",
    "os.listdir(data_path)\n",
    "print(list(data_path.glob('*/*')))  # List all image file paths"
   ]
  },
  {
   "cell_type": "code",
   "execution_count": 3,
   "id": "f0451bb6",
   "metadata": {
    "_cell_guid": "978141f6-be24-450e-8fd9-89a0cd2c5842",
    "_uuid": "9b882fe1-759c-4861-b33a-39c02e0aa739",
    "collapsed": false,
    "execution": {
     "iopub.execute_input": "2024-12-05T14:15:07.964680Z",
     "iopub.status.busy": "2024-12-05T14:15:07.964280Z",
     "iopub.status.idle": "2024-12-05T14:15:08.237893Z",
     "shell.execute_reply": "2024-12-05T14:15:08.236965Z"
    },
    "jupyter": {
     "outputs_hidden": false
    },
    "papermill": {
     "duration": 0.279769,
     "end_time": "2024-12-05T14:15:08.240250",
     "exception": false,
     "start_time": "2024-12-05T14:15:07.960481",
     "status": "completed"
    },
    "tags": []
   },
   "outputs": [],
   "source": [
    "# 1. DATA LOAD AND PREP\n",
    "# ===============================\n",
    "\n",
    "# Function to get all signature paths\n",
    "# This assumes the folder structure as below\n",
    "#/data/\n",
    "#    /person1/\n",
    "#        signature1.jpg\n",
    "#        signature2.jpg\n",
    "#    /person2/\n",
    "#        signature1.jpg\n",
    "#        signature2.jpg\n",
    "\n",
    "# Create DataBlock\n",
    "dblock = DataBlock(\n",
    "    blocks=(ImageBlock, CategoryBlock),\n",
    "    get_items=get_image_files,  # Automatically fetch all image files\n",
    "    splitter=RandomSplitter(valid_pct=0.3, seed=42),  # 70-30 train-validation split\n",
    "    get_y=parent_label,  # Use folder name as label\n",
    "    item_tfms=Resize(224),  # Resize images to 224x224\n",
    "    batch_tfms=aug_transforms(mult=1.0)  # Apply basic augmentations\n",
    ")\n",
    "\n",
    "# Create DataLoaders\n",
    "dls = dblock.dataloaders(data_path, bs=3)"
   ]
  },
  {
   "cell_type": "code",
   "execution_count": 4,
   "id": "d417ed88",
   "metadata": {
    "_cell_guid": "c6bce7fa-430e-4b7a-823d-da77df596e7f",
    "_uuid": "683728b0-e488-4d36-94ef-3028aed67d13",
    "collapsed": false,
    "execution": {
     "iopub.execute_input": "2024-12-05T14:15:08.247209Z",
     "iopub.status.busy": "2024-12-05T14:15:08.246818Z",
     "iopub.status.idle": "2024-12-05T14:15:08.259431Z",
     "shell.execute_reply": "2024-12-05T14:15:08.258179Z"
    },
    "jupyter": {
     "outputs_hidden": false
    },
    "papermill": {
     "duration": 0.018963,
     "end_time": "2024-12-05T14:15:08.261916",
     "exception": false,
     "start_time": "2024-12-05T14:15:08.242953",
     "status": "completed"
    },
    "tags": []
   },
   "outputs": [],
   "source": [
    "# 2. MODEL DESIGN: SIAMESE NETWORK\n",
    "# =================================\n",
    "\n",
    "# Define the SiameseModel\n",
    "# I use a siamese network since its recomended for face recognition and signature is a similar problem. \n",
    "class SignatureModel(Module):\n",
    "    def __init__(self, num_classes, embedding_dim=128):\n",
    "        self.cnn = create_vision_model(resnet34, n_out=embedding_dim, pretrained=True)\n",
    "        self.classifier = nn.Linear(embedding_dim, num_classes)\n",
    "\n",
    "    def forward(self, x):\n",
    "        embeddings = self.cnn(x)  # Extract embeddings\n",
    "        logits = self.classifier(embeddings)  # Classify using embeddings\n",
    "        return embeddings, logits  # Return both for use in loss and metrics\n",
    "\n",
    "# Define the loss function combining Triplet Loss and Cross Entropy\n",
    "class TripletCrossEntropyLoss(Module):\n",
    "    def __init__(self, margin=1.0):\n",
    "        self.margin = margin\n",
    "        self.ce_loss = CrossEntropyLossFlat()\n",
    "\n",
    "    def forward(self, outputs, targets):\n",
    "        embeddings, logits = outputs  # Unpack tuple\n",
    "        ce_loss = self.ce_loss(logits, targets)  # Cross-entropy loss\n",
    "\n",
    "        # Generate triplets for triplet loss\n",
    "        anchor_embeddings = embeddings\n",
    "        positive_embeddings = embeddings[targets]\n",
    "        negative_embeddings = embeddings[torch.roll(targets, 1, dims=0)]\n",
    "        triplet_loss = F.triplet_margin_loss(anchor_embeddings, positive_embeddings, negative_embeddings, margin=self.margin)\n",
    "\n",
    "        return ce_loss + triplet_loss\n",
    "        \n",
    "class LogitsAccuracy(Metric):\n",
    "    def __init__(self):\n",
    "        self.correct = 0\n",
    "        self.total = 0\n",
    "\n",
    "    def reset(self):\n",
    "        self.correct = 0\n",
    "        self.total = 0\n",
    "\n",
    "    def accumulate(self, learn):\n",
    "        # Extract logits (second element of the output tuple)\n",
    "        _, logits = learn.pred\n",
    "        preds = logits.argmax(dim=-1)\n",
    "        self.correct += (preds == learn.y).sum().item()\n",
    "        self.total += len(learn.y)\n",
    "\n",
    "    @property\n",
    "    def value(self):\n",
    "        return self.correct / self.total if self.total > 0 else None"
   ]
  },
  {
   "cell_type": "code",
   "execution_count": 5,
   "id": "44a9c5fb",
   "metadata": {
    "_cell_guid": "36bbe8a7-f022-40e1-8bab-d0cd70b3f387",
    "_uuid": "962e47dd-9f87-4444-8bdd-61ae33fb64ad",
    "collapsed": false,
    "execution": {
     "iopub.execute_input": "2024-12-05T14:15:08.268825Z",
     "iopub.status.busy": "2024-12-05T14:15:08.268422Z",
     "iopub.status.idle": "2024-12-05T14:15:28.920797Z",
     "shell.execute_reply": "2024-12-05T14:15:28.919610Z"
    },
    "jupyter": {
     "outputs_hidden": false
    },
    "papermill": {
     "duration": 20.658547,
     "end_time": "2024-12-05T14:15:28.923227",
     "exception": false,
     "start_time": "2024-12-05T14:15:08.264680",
     "status": "completed"
    },
    "tags": []
   },
   "outputs": [
    {
     "name": "stderr",
     "output_type": "stream",
     "text": [
      "Downloading: \"https://download.pytorch.org/models/resnet34-b627a593.pth\" to /root/.cache/torch/hub/checkpoints/resnet34-b627a593.pth\n",
      "100%|██████████| 83.3M/83.3M [00:00<00:00, 155MB/s]\n"
     ]
    },
    {
     "data": {
      "text/html": [
       "\n",
       "<style>\n",
       "    /* Turns off some styling */\n",
       "    progress {\n",
       "        /* gets rid of default border in Firefox and Opera. */\n",
       "        border: none;\n",
       "        /* Needs to be in here for Safari polyfill so background images work as expected. */\n",
       "        background-size: auto;\n",
       "    }\n",
       "    progress:not([value]), progress:not([value])::-webkit-progress-bar {\n",
       "        background: repeating-linear-gradient(45deg, #7e7e7e, #7e7e7e 10px, #5c5c5c 10px, #5c5c5c 20px);\n",
       "    }\n",
       "    .progress-bar-interrupted, .progress-bar-interrupted::-webkit-progress-bar {\n",
       "        background: #F44336;\n",
       "    }\n",
       "</style>\n"
      ],
      "text/plain": [
       "<IPython.core.display.HTML object>"
      ]
     },
     "metadata": {},
     "output_type": "display_data"
    },
    {
     "data": {
      "text/html": [
       "<table border=\"1\" class=\"dataframe\">\n",
       "  <thead>\n",
       "    <tr style=\"text-align: left;\">\n",
       "      <th>epoch</th>\n",
       "      <th>train_loss</th>\n",
       "      <th>valid_loss</th>\n",
       "      <th>logits_accuracy</th>\n",
       "      <th>time</th>\n",
       "    </tr>\n",
       "  </thead>\n",
       "  <tbody>\n",
       "    <tr>\n",
       "      <td>0</td>\n",
       "      <td>20.507938</td>\n",
       "      <td>1.205404</td>\n",
       "      <td>0.500000</td>\n",
       "      <td>00:03</td>\n",
       "    </tr>\n",
       "  </tbody>\n",
       "</table>"
      ],
      "text/plain": [
       "<IPython.core.display.HTML object>"
      ]
     },
     "metadata": {},
     "output_type": "display_data"
    },
    {
     "data": {
      "text/html": [
       "\n",
       "<style>\n",
       "    /* Turns off some styling */\n",
       "    progress {\n",
       "        /* gets rid of default border in Firefox and Opera. */\n",
       "        border: none;\n",
       "        /* Needs to be in here for Safari polyfill so background images work as expected. */\n",
       "        background-size: auto;\n",
       "    }\n",
       "    progress:not([value]), progress:not([value])::-webkit-progress-bar {\n",
       "        background: repeating-linear-gradient(45deg, #7e7e7e, #7e7e7e 10px, #5c5c5c 10px, #5c5c5c 20px);\n",
       "    }\n",
       "    .progress-bar-interrupted, .progress-bar-interrupted::-webkit-progress-bar {\n",
       "        background: #F44336;\n",
       "    }\n",
       "</style>\n"
      ],
      "text/plain": [
       "<IPython.core.display.HTML object>"
      ]
     },
     "metadata": {},
     "output_type": "display_data"
    },
    {
     "data": {
      "text/html": [
       "<table border=\"1\" class=\"dataframe\">\n",
       "  <thead>\n",
       "    <tr style=\"text-align: left;\">\n",
       "      <th>epoch</th>\n",
       "      <th>train_loss</th>\n",
       "      <th>valid_loss</th>\n",
       "      <th>logits_accuracy</th>\n",
       "      <th>time</th>\n",
       "    </tr>\n",
       "  </thead>\n",
       "  <tbody>\n",
       "    <tr>\n",
       "      <td>0</td>\n",
       "      <td>1.374870</td>\n",
       "      <td>1.044712</td>\n",
       "      <td>0.500000</td>\n",
       "      <td>00:03</td>\n",
       "    </tr>\n",
       "    <tr>\n",
       "      <td>1</td>\n",
       "      <td>6.786650</td>\n",
       "      <td>0.318696</td>\n",
       "      <td>1.000000</td>\n",
       "      <td>00:03</td>\n",
       "    </tr>\n",
       "    <tr>\n",
       "      <td>2</td>\n",
       "      <td>9.102486</td>\n",
       "      <td>1.625116</td>\n",
       "      <td>0.500000</td>\n",
       "      <td>00:03</td>\n",
       "    </tr>\n",
       "    <tr>\n",
       "      <td>3</td>\n",
       "      <td>8.460338</td>\n",
       "      <td>0.788840</td>\n",
       "      <td>0.500000</td>\n",
       "      <td>00:03</td>\n",
       "    </tr>\n",
       "    <tr>\n",
       "      <td>4</td>\n",
       "      <td>8.167493</td>\n",
       "      <td>0.416007</td>\n",
       "      <td>0.500000</td>\n",
       "      <td>00:03</td>\n",
       "    </tr>\n",
       "  </tbody>\n",
       "</table>"
      ],
      "text/plain": [
       "<IPython.core.display.HTML object>"
      ]
     },
     "metadata": {},
     "output_type": "display_data"
    }
   ],
   "source": [
    "# 4. TRAINING LOOP\n",
    "# =================\n",
    "\n",
    "# Create the Learner\n",
    "loss_func = TripletCrossEntropyLoss()\n",
    "metrics = [LogitsAccuracy()]  # Use the fixed custom metric\n",
    "\n",
    "learn = Learner(\n",
    "    dls,\n",
    "    model=SignatureModel(num_classes=len(dls.vocab), embedding_dim=128),\n",
    "    loss_func=loss_func,\n",
    "    metrics=metrics,\n",
    "    opt_func=Adam\n",
    ")\n",
    "\n",
    "# Train the model\n",
    "learn.fine_tune(5)"
   ]
  },
  {
   "cell_type": "code",
   "execution_count": 6,
   "id": "7833f856",
   "metadata": {
    "_cell_guid": "c9778fe3-e07e-43ae-b620-dfe5d525d15e",
    "_uuid": "c2f71386-55f9-4159-9de4-c34eaf4239d9",
    "collapsed": false,
    "execution": {
     "iopub.execute_input": "2024-12-05T14:15:28.932679Z",
     "iopub.status.busy": "2024-12-05T14:15:28.932207Z",
     "iopub.status.idle": "2024-12-05T14:15:29.274706Z",
     "shell.execute_reply": "2024-12-05T14:15:29.272769Z"
    },
    "jupyter": {
     "outputs_hidden": false
    },
    "papermill": {
     "duration": 0.35014,
     "end_time": "2024-12-05T14:15:29.277274",
     "exception": false,
     "start_time": "2024-12-05T14:15:28.927134",
     "status": "completed"
    },
    "tags": []
   },
   "outputs": [
    {
     "data": {
      "text/html": [
       "\n",
       "<style>\n",
       "    /* Turns off some styling */\n",
       "    progress {\n",
       "        /* gets rid of default border in Firefox and Opera. */\n",
       "        border: none;\n",
       "        /* Needs to be in here for Safari polyfill so background images work as expected. */\n",
       "        background-size: auto;\n",
       "    }\n",
       "    progress:not([value]), progress:not([value])::-webkit-progress-bar {\n",
       "        background: repeating-linear-gradient(45deg, #7e7e7e, #7e7e7e 10px, #5c5c5c 10px, #5c5c5c 20px);\n",
       "    }\n",
       "    .progress-bar-interrupted, .progress-bar-interrupted::-webkit-progress-bar {\n",
       "        background: #F44336;\n",
       "    }\n",
       "</style>\n"
      ],
      "text/plain": [
       "<IPython.core.display.HTML object>"
      ]
     },
     "metadata": {},
     "output_type": "display_data"
    },
    {
     "data": {
      "text/html": [],
      "text/plain": [
       "<IPython.core.display.HTML object>"
      ]
     },
     "metadata": {},
     "output_type": "display_data"
    },
    {
     "name": "stdout",
     "output_type": "stream",
     "text": [
      "The detected owner is: person2\n"
     ]
    }
   ],
   "source": [
    "# 5. INFERENCE\n",
    "# ============\n",
    "# Create a mapping from indices to labels\n",
    "idx_to_label = {v: k for k, v in dls.vocab.o2i.items()}\n",
    "\n",
    "# Function to detect owner given a new signature\n",
    "def detect_owner(signature_path, learn):\n",
    "    signature_img = PILImage.create(signature_path) # Load the signature image\n",
    "    test_dl = dls.test_dl([signature_img]) # Create a DataLoader for the test image\n",
    "    preds, _ = learn.get_preds(dl=test_dl) # Get predictions\n",
    "    logits = preds[1]  # Extract logits from the tuple (embeddings, logits)\n",
    "    owner = idx_to_label[logits.argmax().item()] # Find the index with the highest probability\n",
    "    return owner\n",
    "\n",
    "# Example inference\n",
    "sample_signature = '/kaggle/input/testdataset2/data/person2/signature1.png'  # Path to test signature\n",
    "owner = detect_owner(sample_signature, learn)\n",
    "print(f\"The detected owner is: {owner}\")"
   ]
  }
 ],
 "metadata": {
  "kaggle": {
   "accelerator": "none",
   "dataSources": [
    {
     "datasetId": 6231683,
     "sourceId": 10103080,
     "sourceType": "datasetVersion"
    }
   ],
   "dockerImageVersionId": 30786,
   "isGpuEnabled": false,
   "isInternetEnabled": true,
   "language": "python",
   "sourceType": "notebook"
  },
  "kernelspec": {
   "display_name": "Python 3",
   "language": "python",
   "name": "python3"
  },
  "language_info": {
   "codemirror_mode": {
    "name": "ipython",
    "version": 3
   },
   "file_extension": ".py",
   "mimetype": "text/x-python",
   "name": "python",
   "nbconvert_exporter": "python",
   "pygments_lexer": "ipython3",
   "version": "3.10.14"
  },
  "papermill": {
   "default_parameters": {},
   "duration": 36.283205,
   "end_time": "2024-12-05T14:15:31.208918",
   "environment_variables": {},
   "exception": null,
   "input_path": "__notebook__.ipynb",
   "output_path": "__notebook__.ipynb",
   "parameters": {},
   "start_time": "2024-12-05T14:14:54.925713",
   "version": "2.6.0"
  }
 },
 "nbformat": 4,
 "nbformat_minor": 5
}
